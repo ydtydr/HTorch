{
 "cells": [
  {
   "cell_type": "code",
   "execution_count": 1,
   "metadata": {},
   "outputs": [],
   "source": [
    "import sys\n",
    "sys.path.append(\"..\")\n",
    "import torch\n",
    "from HTorch import HTensor, HParameter, RiemannianSGD, RiemannianAdam"
   ]
  },
  {
   "cell_type": "code",
   "execution_count": 2,
   "metadata": {},
   "outputs": [],
   "source": [
    "a = HTensor([0.2, 0.3, 0.1], manifold='PoincareBall')\n",
    "b = HTensor([0.2, 0.3, 0.1], manifold='HalfSpace')\n",
    "ori = HTensor([0.0,0.0, 0.0], manifold='PoincareBall')\n",
    "v = torch.tensor([0.02, 0.01, 0.001])"
   ]
  },
  {
   "cell_type": "markdown",
   "metadata": {},
   "source": [
    "### Test RiemannianSGD optimizer, sparse Hparameters to be test"
   ]
  },
  {
   "cell_type": "code",
   "execution_count": 3,
   "metadata": {},
   "outputs": [
    {
     "name": "stdout",
     "output_type": "stream",
     "text": [
      "Hyperbolic Parameter containing:\n",
      "tensor([0.2000, 0.3000, 0.1000], requires_grad=True), manifold=PoincareBall, curvature=-1.0\n"
     ]
    }
   ],
   "source": [
    "u = HParameter(a)\n",
    "print(u)\n",
    "u_par =  [{'params': u,}]\n",
    "optim = RiemannianSGD(u_par, lr=0.1, weight_decay=0.0)"
   ]
  },
  {
   "cell_type": "code",
   "execution_count": 4,
   "metadata": {},
   "outputs": [
    {
     "name": "stdout",
     "output_type": "stream",
     "text": [
      "tensor(0.7865, grad_fn=<AliasBackward0>)\n",
      "tensor([1.2431, 1.8646, 0.6215])\n",
      "Hyperbolic Parameter containing:\n",
      "tensor([0.1766, 0.2649, 0.0883], requires_grad=True), manifold=PoincareBall, curvature=-1.0 tensor(0.6865, grad_fn=<AliasBackward0>)\n"
     ]
    }
   ],
   "source": [
    "optim.zero_grad()\n",
    "loss = u.Hdist(ori)\n",
    "print(loss)\n",
    "loss.backward()\n",
    "print(u.grad)\n",
    "optim.step()\n",
    "print(u, u.Hdist(ori))"
   ]
  },
  {
   "cell_type": "markdown",
   "metadata": {},
   "source": [
    "### Test RiemannianAdam optimizer, sparse Hparameters to be test"
   ]
  },
  {
   "cell_type": "code",
   "execution_count": 5,
   "metadata": {},
   "outputs": [
    {
     "name": "stdout",
     "output_type": "stream",
     "text": [
      "Hyperbolic Parameter containing:\n",
      "tensor([0.2000, 0.3000, 0.1000], requires_grad=True), manifold=PoincareBall, curvature=-1.0\n"
     ]
    }
   ],
   "source": [
    "u = HParameter(a)\n",
    "print(u)\n",
    "u_par =  [{'params': u,}]\n",
    "optim = RiemannianAdam(u_par, lr=0.1, weight_decay=0.0)"
   ]
  },
  {
   "cell_type": "code",
   "execution_count": 6,
   "metadata": {},
   "outputs": [
    {
     "name": "stdout",
     "output_type": "stream",
     "text": [
      "tensor(0.7865, grad_fn=<AliasBackward0>)\n",
      "tensor([1.2431, 1.8646, 0.6215])\n",
      "Hyperbolic Parameter containing:\n",
      "tensor([0.1766, 0.2649, 0.0883], requires_grad=True), manifold=PoincareBall, curvature=-1.0 tensor(0.6865, grad_fn=<AliasBackward0>)\n"
     ]
    }
   ],
   "source": [
    "optim.zero_grad()\n",
    "loss = u.Hdist(ori)\n",
    "print(loss)\n",
    "loss.backward()\n",
    "print(u.grad)\n",
    "optim.step()\n",
    "print(u, u.Hdist(ori))"
   ]
  },
  {
   "cell_type": "code",
   "execution_count": null,
   "metadata": {},
   "outputs": [],
   "source": []
  },
  {
   "cell_type": "code",
   "execution_count": null,
   "metadata": {},
   "outputs": [],
   "source": []
  }
 ],
 "metadata": {
  "kernelspec": {
   "display_name": "hyla",
   "language": "python",
   "name": "hyla"
  },
  "language_info": {
   "codemirror_mode": {
    "name": "ipython",
    "version": 3
   },
   "file_extension": ".py",
   "mimetype": "text/x-python",
   "name": "python",
   "nbconvert_exporter": "python",
   "pygments_lexer": "ipython3",
   "version": "3.6.12"
  }
 },
 "nbformat": 4,
 "nbformat_minor": 4
}
