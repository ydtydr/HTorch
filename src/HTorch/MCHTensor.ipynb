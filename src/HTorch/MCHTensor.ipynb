{
 "cells": [
  {
   "cell_type": "code",
   "execution_count": 1,
   "metadata": {},
   "outputs": [],
   "source": [
    "import os, sys\n",
    "sys.path.insert(0, \"..\")\n",
    "from __future__ import annotations\n",
    "import torch, math\n",
    "from HTorch.manifolds import Euclidean, PoincareBall, Lorentz, HalfSpace, Manifold, Sphere\n",
    "from torch import Tensor\n",
    "from torch.nn import Parameter\n",
    "import functools\n",
    "from typing import Union\n",
    "from HTorch.MCTensor import MCTensor\n",
    "\n",
    "manifold_maps = {\n",
    "    'Euclidean': Euclidean, \n",
    "    'PoincareBall': PoincareBall,\n",
    "    'Lorentz': Lorentz, \n",
    "    'HalfSpace': HalfSpace,\n",
    "    'Sphere':Sphere\n",
    "}"
   ]
  },
  {
   "cell_type": "code",
   "execution_count": 11,
   "metadata": {},
   "outputs": [],
   "source": [
    "class MCHTensor(MCTensor):\n",
    "    @staticmethod\n",
    "    def __new__(cls, *args, manifold='PoincareBall', curvature=-1.0, **kwargs):\n",
    "        ret = super().__new__(cls, *args, **kwargs)\n",
    "        ret.manifold: Manifold = manifold_maps[manifold]()\n",
    "        ret.curvature = curvature\n",
    "        return ret\n",
    "\n",
    "    def __init__(self, *args, manifold='PoincareBall', curvature=-1.0, **kwargs):\n",
    "        super().__init__(*args, **kwargs)\n",
    "        self.manifold: Manifold = manifold_maps[manifold]()\n",
    "        self.curvature = curvature\n",
    "    \n",
    "    def clone(self, *args, **kwargs) -> MCHTensor:\n",
    "        ## may be removed? to test\n",
    "        new_obj = MCHTensor(super().clone(*args, **kwargs),\n",
    "                          manifold=self.manifold.name, curvature=self.curvature)\n",
    "        return new_obj\n",
    "\n",
    "    def to(self, *args, **kwargs) -> MCHTensor:\n",
    "        new_obj = MCHTensor([], manifold=self.manifold.name,\n",
    "                          curvature=self.curvature)\n",
    "        tempTensor = super().to(*args, **kwargs)\n",
    "        new_obj.data = tempTensor.data\n",
    "        new_obj.requires_grad = tempTensor.requires_grad\n",
    "        return new_obj\n",
    "    \n",
    "    def __repr__(self):\n",
    "        return \"{}, manifold={}, curvature={}\".format(\n",
    "            super().__repr__(), self.manifold.name, self.curvature)\n",
    "\n",
    "    def to_other_manifold(self, name: str) -> MCHTensor:\n",
    "        \"\"\"Convert to the same point on the other manifold.\"\"\"\n",
    "        assert name != self.manifold.name\n",
    "        if name == 'Lorentz':\n",
    "            ret = self.manifold.to_lorentz(self, abs(self.curvature))\n",
    "        elif name == 'HalfSpace':\n",
    "            ret = self.manifold.to_halfspace(self, abs(self.curvature))\n",
    "        elif name == 'PoincareBall':\n",
    "            ret = self.manifold.to_poincare(self, abs(self.curvature))\n",
    "        else:\n",
    "            raise NotImplemented\n",
    "        ret.manifold = manifold_maps[name]()\n",
    "        return ret\n",
    "\n",
    "    def Hdist(self, other: MCHTensor) -> Tensor:\n",
    "        \"\"\"Computes hyperbolic distance to other.\"\"\"\n",
    "        assert self.curvature == other.curvature, \"Inputs should in models with same curvature!\"\n",
    "        if self.manifold.name == other.manifold.name:\n",
    "            dist = self.manifold.distance(self, other, abs(self.curvature))\n",
    "        else:\n",
    "            #### transform to a self's manifold, combine with lazy evaulation?\n",
    "            other_ = other.to_other_manifold(self.manifold.name)\n",
    "            dist = self.manifold.distance(self, other_, abs(self.curvature))\n",
    "        return dist.as_subclass(Tensor)\n",
    "\n",
    "    def proj(self) -> MCHTensor:\n",
    "        \"\"\"Projects point p on the manifold.\"\"\"\n",
    "        return self.manifold.proj(self, abs(self.curvature))\n",
    "\n",
    "    def proj_(self) -> MCHTensor:\n",
    "        \"\"\"Projects point p on the manifold.\"\"\"\n",
    "        return self.data.copy_(self.proj())\n",
    "\n",
    "    def proj_tan(self, u: Tensor) -> Tensor:\n",
    "        \"\"\"Projects u on the tangent space of p.\"\"\"\n",
    "        return self.manifold.proj_tan(self, u, abs(self.curvature)).as_subclass(Tensor)\n",
    "\n",
    "    def proj_tan0(self, u: Tensor) -> Tensor:\n",
    "        \"\"\"Projects u on the tangent space of the origin.\"\"\"\n",
    "        return self.manifold.proj_tan0(u, abs(self.curvature)).as_subclass(Tensor)\n",
    "\n",
    "    def expmap(self, x: MCHTensor, u: Tensor) -> MCHTensor:\n",
    "        \"\"\"Exponential map.\"\"\"\n",
    "        return self.manifold.expmap(x, u, abs(self.curvature))\n",
    "\n",
    "    def expmap0(self, u: Tensor) -> MCHTensor:\n",
    "        \"\"\"Exponential map, with x being the origin on the manifold.\"\"\"\n",
    "        res = self.manifold.expmap0(\n",
    "            u, abs(self.curvature)).as_subclass(MCHTensor)\n",
    "        res.manifold = self.manifold\n",
    "        res.curvature = self.curvature\n",
    "        return res\n",
    "\n",
    "    def logmap(self, x: MCHTensor, y: MCHTensor) -> Tensor:\n",
    "        \"\"\"Logarithmic map, the inverse of exponential map.\"\"\"\n",
    "        return self.manifold.logmap(x, y, abs(self.curvature)).as_subclass(Tensor)\n",
    "\n",
    "    def logmap0(self, y: MCHTensor) -> Tensor:\n",
    "        \"\"\"Logarithmic map, where x is the origin.\"\"\"\n",
    "        return self.manifold.logmap0(y, abs(self.curvature)).as_subclass(Tensor)\n",
    "\n",
    "    def mobius_add(self, x: MCHTensor, y: MCHTensor, dim: int = -1) -> MCHTensor:\n",
    "        \"\"\"Performs hyperboic addition, adds points x and y.\"\"\"\n",
    "        return self.manifold.mobius_add(x, y, abs(self.curvature), dim=dim)\n",
    "\n",
    "    def mobius_matvec(self, m: Tensor, x: MCHTensor) -> MCHTensor:\n",
    "        \"\"\"Performs hyperboic martrix-vector multiplication to m (matrix).\"\"\"\n",
    "        return self.manifold.mobius_matvec(m, x, abs(self.curvature))\n",
    "\n",
    "    def check_(self) -> Tensor:\n",
    "        \"\"\"Check if point on the specified manifold, project to the manifold if not.\"\"\"\n",
    "        check_result = self.manifold.check(\n",
    "            self, abs(self.curvature)).as_subclass(Tensor)\n",
    "        if not check_result:\n",
    "            print('Warning: data not on the manifold, projecting ...')\n",
    "            self.proj_()\n",
    "        return check_result\n",
    "    \n",
    "    @staticmethod\n",
    "    def find_mani_cur(args):\n",
    "        for arg in args:\n",
    "            if isinstance(arg, list):\n",
    "                # Recursively apply the function to each element of the list\n",
    "                manifold, curvature = MCHTensor.find_mani_cur(arg)\n",
    "                break\n",
    "            elif isinstance(arg, MCHTensor):\n",
    "                manifold, curvature = arg.manifold, arg.curvature\n",
    "                break\n",
    "        return manifold, curvature\n",
    "    \n",
    "    @classmethod\n",
    "    def __torch_function__(cls, func, types, args=(), kwargs=None):\n",
    "        if kwargs is None:\n",
    "            kwargs = {}\n",
    "        tmp = super().__torch_function__(func, types, args, kwargs)\n",
    "        if type(tmp) in [MCTensor, MCHTensor] and not hasattr(tmp, 'manifold'):\n",
    "            ret = cls(tmp)\n",
    "            ret._nc, ret.res = tmp.nc, tmp.res\n",
    "            ret.manifold, ret.curvature = cls.find_mani_cur(args)\n",
    "            return ret\n",
    "        return tmp"
   ]
  },
  {
   "cell_type": "code",
   "execution_count": 40,
   "metadata": {},
   "outputs": [
    {
     "name": "stdout",
     "output_type": "stream",
     "text": [
      "MCHTensor([0.2020, 0.1020, 0.0020]), nc=3, manifold=Lorentz, curvature=-1.0 tensor([[-3.9581e-09,  0.0000e+00],\n",
      "        [-3.9581e-09,  0.0000e+00],\n",
      "        [ 0.0000e+00,  0.0000e+00]]) torch.Size([3])\n"
     ]
    }
   ],
   "source": [
    "x = MCHTensor([0.2, 0.1, 0.0], nc=3, manifold=\"Lorentz\")\n",
    "x.res.data.add_(1e-3)\n",
    "x.normalize_()\n",
    "print(x, x.res, x.shape)"
   ]
  },
  {
   "cell_type": "code",
   "execution_count": 41,
   "metadata": {},
   "outputs": [
    {
     "data": {
      "text/plain": [
       "MCHTensor([0.4040, 0.2040, 0.0040]), nc=3, manifold=Lorentz, curvature=-1.0"
      ]
     },
     "execution_count": 41,
     "metadata": {},
     "output_type": "execute_result"
    }
   ],
   "source": [
    "x + x"
   ]
  },
  {
   "cell_type": "code",
   "execution_count": 42,
   "metadata": {},
   "outputs": [
    {
     "data": {
      "text/plain": [
       "MCHTensor([[0.2020, 0.1020, 0.0020],\n",
       "           [0.2020, 0.1020, 0.0020]]), nc=3, manifold=Lorentz, curvature=-1.0"
      ]
     },
     "execution_count": 42,
     "metadata": {},
     "output_type": "execute_result"
    }
   ],
   "source": [
    "torch.stack([x,x])"
   ]
  },
  {
   "cell_type": "code",
   "execution_count": 43,
   "metadata": {},
   "outputs": [
    {
     "data": {
      "text/plain": [
       "MCHTensor(0.2263), nc=3, manifold=Lorentz, curvature=-1.0"
      ]
     },
     "execution_count": 43,
     "metadata": {},
     "output_type": "execute_result"
    }
   ],
   "source": [
    "torch.norm(x, dim=0, p=2)"
   ]
  },
  {
   "cell_type": "markdown",
   "metadata": {},
   "source": [
    "### Attentions:\n",
    "1. test standard functions in MCTensor work\n",
    "2. test HTensor functions\n",
    "3. include arcosh, arsinh"
   ]
  },
  {
   "cell_type": "markdown",
   "metadata": {},
   "source": [
    "### Test MCHTensor function \n",
    "In order to test a function, take it out from manifold definition, and run line by line to go through, \n",
    "until it returns a correct result, cross-check with torch results, below is an example;"
   ]
  },
  {
   "cell_type": "code",
   "execution_count": 44,
   "metadata": {},
   "outputs": [],
   "source": [
    "def sq_norm(x, keepdim=True):\n",
    "    return torch.norm(x, p=2, dim=-1, keepdim=keepdim) ** 2\n",
    "\n",
    "def my_proj(x:Tensor, c:Union[float,Tensor]) -> Tensor:\n",
    "    \"\"\"Project a point outside manifold to the Lorentz manifold \"\"\"\n",
    "    d = x.size(-1) - 1\n",
    "    y = x.narrow(-1, 0, d)\n",
    "    y_sqnorm = sq_norm(y)[..., 0] \n",
    "    mask = torch.ones_like(x)\n",
    "    mask[..., -1] = 0\n",
    "    vals = torch.zeros_like(x)\n",
    "    vals[..., -1] = torch.sqrt(torch.clamp(1. / c + y_sqnorm, min=1e-7))\n",
    "    return vals + mask * x"
   ]
  },
  {
   "cell_type": "markdown",
   "metadata": {},
   "source": [
    "### Line by line walk through the function"
   ]
  },
  {
   "cell_type": "code",
   "execution_count": 45,
   "metadata": {},
   "outputs": [
    {
     "name": "stdout",
     "output_type": "stream",
     "text": [
      "MCHTensor([0.2010, 0.1010, 0.0010]), nc=2, manifold=Lorentz, curvature=-1.0 tensor([[-1.9791e-09],\n",
      "        [-1.9791e-09],\n",
      "        [ 0.0000e+00]])\n",
      "MCHTensor([0.2010, 0.1010, 1.0250]), nc=2, manifold=Lorentz, curvature=-1.0 tensor([[-1.9791e-09],\n",
      "        [-1.9791e-09],\n",
      "        [ 3.1515e-08]])\n",
      "MCHTensor([0.2010, 0.1010]), nc=2, manifold=Lorentz, curvature=-1.0\n",
      "MCHTensor(0.0506), nc=2, manifold=Lorentz, curvature=-1.0\n",
      "MCHTensor([0.2010, 0.1010, 1.0250]), nc=2, manifold=Lorentz, curvature=-1.0\n"
     ]
    }
   ],
   "source": [
    "x = MCHTensor([0.2, 0.1, 0.0], nc=2, manifold=\"Lorentz\")\n",
    "x.res.data.add_(1e-3)\n",
    "x.normalize_()\n",
    "print(x, x.res)\n",
    "proj_x = my_proj(x, abs(x.curvature))\n",
    "print(proj_x, proj_x.res)\n",
    "d = x.size(-1) - 1\n",
    "y = x.narrow(-1, 0, d)\n",
    "print(y)\n",
    "y_sqnorm = sq_norm(y)[..., 0]\n",
    "print(y_sqnorm)\n",
    "mask = torch.ones_like(x)\n",
    "mask[..., -1] = 0\n",
    "vals = torch.zeros_like(x)\n",
    "vals[..., -1] = torch.sqrt(torch.clamp(1. / 1 + y_sqnorm, min=1e-7))\n",
    "result = vals + mask * x\n",
    "print(result)"
   ]
  },
  {
   "cell_type": "markdown",
   "metadata": {},
   "source": [
    "### call the corresponding function"
   ]
  },
  {
   "cell_type": "code",
   "execution_count": 46,
   "metadata": {},
   "outputs": [
    {
     "name": "stdout",
     "output_type": "stream",
     "text": [
      "MCHTensor([0.2010, 0.1010, 1.0250]), nc=2, manifold=Lorentz, curvature=-1.0 tensor([[-1.9791e-09],\n",
      "        [-1.9791e-09],\n",
      "        [ 3.1515e-08]])\n"
     ]
    }
   ],
   "source": [
    "y = x.proj()\n",
    "print(y, y.res)"
   ]
  },
  {
   "cell_type": "markdown",
   "metadata": {},
   "source": [
    "#### please test through all manifolds functions, check, inner, ...."
   ]
  },
  {
   "cell_type": "code",
   "execution_count": null,
   "metadata": {},
   "outputs": [],
   "source": []
  },
  {
   "cell_type": "markdown",
   "metadata": {},
   "source": [
    "#### After testing, move the MCHTensor definitions to MCHTensor.py"
   ]
  },
  {
   "cell_type": "code",
   "execution_count": null,
   "metadata": {},
   "outputs": [],
   "source": []
  }
 ],
 "metadata": {
  "kernelspec": {
   "display_name": "hy-torch",
   "language": "python",
   "name": "hy-torch"
  },
  "language_info": {
   "codemirror_mode": {
    "name": "ipython",
    "version": 3
   },
   "file_extension": ".py",
   "mimetype": "text/x-python",
   "name": "python",
   "nbconvert_exporter": "python",
   "pygments_lexer": "ipython3",
   "version": "3.10.4"
  }
 },
 "nbformat": 4,
 "nbformat_minor": 4
}
