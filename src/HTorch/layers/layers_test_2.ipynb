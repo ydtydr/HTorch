{
 "cells": [
  {
   "cell_type": "code",
   "execution_count": 1,
   "metadata": {},
   "outputs": [
    {
     "name": "stderr",
     "output_type": "stream",
     "text": [
      "c:\\Users\\23128\\anaconda3\\envs\\venv\\lib\\site-packages\\tqdm\\auto.py:22: TqdmWarning: IProgress not found. Please update jupyter and ipywidgets. See https://ipywidgets.readthedocs.io/en/stable/user_install.html\n",
      "  from .autonotebook import tqdm as notebook_tqdm\n"
     ]
    }
   ],
   "source": [
    "import HTorch\n",
    "import torch\n",
    "import numpy as np\n",
    "import importlib"
   ]
  },
  {
   "cell_type": "code",
   "execution_count": 2,
   "metadata": {},
   "outputs": [],
   "source": [
    "torch.set_printoptions(precision=6)"
   ]
  },
  {
   "cell_type": "code",
   "execution_count": 3,
   "metadata": {},
   "outputs": [
    {
     "data": {
      "text/plain": [
       "<module 'HTorch' from 'c:\\\\Users\\\\23128\\\\anaconda3\\\\envs\\\\venv\\\\lib\\\\site-packages\\\\HTorch\\\\__init__.py'>"
      ]
     },
     "execution_count": 3,
     "metadata": {},
     "output_type": "execute_result"
    }
   ],
   "source": [
    "importlib.reload(HTorch)\n"
   ]
  },
  {
   "cell_type": "code",
   "execution_count": 4,
   "metadata": {},
   "outputs": [],
   "source": [
    "g = HTorch.layers.HyperbolicGraphConvolution(100, 100, 1, 1, 0, (lambda x: x ** 2), True, False, False)\n",
    "xold = torch.from_numpy(np.random.RandomState(0).randn(50, 100)).to(torch.float32)\n",
    "x = HTorch.HTensor(50, 100)\n",
    "x.data.copy_(xold.data)\n",
    "A = torch.randint(0, 2, (50, 50), generator=torch.manual_seed(0)).to(torch.float32)"
   ]
  },
  {
   "cell_type": "code",
   "execution_count": 5,
   "metadata": {},
   "outputs": [
    {
     "data": {
      "text/plain": [
       "Hyperbolic HTensor(7.042773, grad_fn=<AliasBackward0>), manifold=PoincareBall, curvature=-1.0"
      ]
     },
     "execution_count": 5,
     "metadata": {},
     "output_type": "execute_result"
    }
   ],
   "source": [
    "l = HTorch.layers.HypLinear(100, 100, bias=True, dropout=0)\n",
    "l.weight.data.copy_(torch.ones_like(l.weight))\n",
    "l.bias.data.copy_(torch.zeros_like(l.bias))\n",
    "l(x).norm()\n"
   ]
  },
  {
   "cell_type": "code",
   "execution_count": 6,
   "metadata": {},
   "outputs": [
    {
     "data": {
      "text/plain": [
       "Hyperbolic HTensor(0.878107, grad_fn=<AliasBackward0>), manifold=PoincareBall, curvature=-1.0"
      ]
     },
     "execution_count": 6,
     "metadata": {},
     "output_type": "execute_result"
    }
   ],
   "source": [
    "agg = HTorch.layers.HypAgg(100, 0, True, False)\n",
    "agg.att.linear.weight.data.copy_(torch.ones_like(agg.att.linear.weight.data))\n",
    "agg.att.linear.bias.data.copy_(torch.zeros_like(agg.att.linear.bias.data))\n",
    "agg(x/200, A).norm()"
   ]
  },
  {
   "cell_type": "code",
   "execution_count": 7,
   "metadata": {},
   "outputs": [
    {
     "data": {
      "text/plain": [
       "Hyperbolic HTensor(4.082051, grad_fn=<AliasBackward0>), manifold=PoincareBall, curvature=-1.0"
      ]
     },
     "execution_count": 7,
     "metadata": {},
     "output_type": "execute_result"
    }
   ],
   "source": [
    "agg = HTorch.layers.HypAgg(100, 0, True, True)\n",
    "agg.att.linear.weight.data.copy_(torch.ones_like(agg.att.linear.weight.data))\n",
    "agg.att.linear.bias.data.copy_(torch.zeros_like(agg.att.linear.bias.data))\n",
    "agg(x/200, A).norm()"
   ]
  },
  {
   "cell_type": "code",
   "execution_count": 8,
   "metadata": {},
   "outputs": [
    {
     "data": {
      "text/plain": [
       "Hyperbolic HTensor(1.742213), manifold=PoincareBall, curvature=-1.0"
      ]
     },
     "execution_count": 8,
     "metadata": {},
     "output_type": "execute_result"
    }
   ],
   "source": [
    "agg = HTorch.layers.HypAgg(100, 0, False, False)\n",
    "agg(x/200, A).norm()"
   ]
  },
  {
   "cell_type": "code",
   "execution_count": 9,
   "metadata": {},
   "outputs": [
    {
     "data": {
      "text/plain": [
       "Hyperbolic HTensor(1.742213), manifold=PoincareBall, curvature=-1.0"
      ]
     },
     "execution_count": 9,
     "metadata": {},
     "output_type": "execute_result"
    }
   ],
   "source": [
    "agg = HTorch.layers.HypAgg(100, 0, False, True)\n",
    "agg(x/200, A).norm()"
   ]
  },
  {
   "cell_type": "code",
   "execution_count": 10,
   "metadata": {},
   "outputs": [
    {
     "data": {
      "text/plain": [
       "Hyperbolic HTensor(0.969832, grad_fn=<AliasBackward0>), manifold=PoincareBall, curvature=-1.0"
      ]
     },
     "execution_count": 10,
     "metadata": {},
     "output_type": "execute_result"
    }
   ],
   "source": [
    "hnn = HTorch.layers.HNNLayer(100, 100, -1., -1., 0, (lambda x: x ** 2), True)\n",
    "hnn.linear.weight.data.copy_(torch.ones_like(hnn.linear.weight.data))\n",
    "hnn.linear.bias.data.copy_(torch.zeros_like(hnn.linear.bias.data))\n",
    "hnn(x/100).norm(p=2)"
   ]
  },
  {
   "cell_type": "code",
   "execution_count": 11,
   "metadata": {},
   "outputs": [
    {
     "data": {
      "text/plain": [
       "Hyperbolic HTensor(0.969832, grad_fn=<AliasBackward0>), manifold=PoincareBall, curvature=-1.0"
      ]
     },
     "execution_count": 11,
     "metadata": {},
     "output_type": "execute_result"
    }
   ],
   "source": [
    "hgc = HTorch.layers.HyperbolicGraphConvolution(100, 100, -1., -1., 0, (lambda x: x ** 2), True, True, True)\n",
    "hnn.linear.weight.data.copy_(torch.ones_like(hnn.linear.weight.data))\n",
    "hnn.linear.bias.data.copy_(torch.zeros_like(hnn.linear.bias.data))\n",
    "hnn(x/100).norm(p=2)\n"
   ]
  },
  {
   "cell_type": "code",
   "execution_count": 12,
   "metadata": {},
   "outputs": [
    {
     "name": "stdout",
     "output_type": "stream",
     "text": [
      "Hyperbolic HTensor(0.705026, dtype=torch.float64, grad_fn=<AliasBackward0>), manifold=PoincareBall, curvature=-1.0\n",
      "tensor(35.693137, dtype=torch.float64)\n"
     ]
    }
   ],
   "source": [
    "hgc = HTorch.layers.HyperbolicGraphConvolution(100, 100, -1., -1., 0, (lambda x: x ** 2), True, True, True).to(torch.float64)\n",
    "for n, p in hgc.named_parameters():\n",
    "    if 'weight' in n or 'bias' in n:\n",
    "        p.data.copy_(torch.ones_like(p.data))\n",
    "out, adj = hgc(((x/200).to(torch.float64), A.to(torch.float64)))\n",
    "print(out.norm(p=2))\n",
    "print(adj.norm(p=2))"
   ]
  },
  {
   "cell_type": "code",
   "execution_count": null,
   "metadata": {},
   "outputs": [],
   "source": []
  }
 ],
 "metadata": {
  "kernelspec": {
   "display_name": "venv",
   "language": "python",
   "name": "python3"
  },
  "language_info": {
   "codemirror_mode": {
    "name": "ipython",
    "version": 3
   },
   "file_extension": ".py",
   "mimetype": "text/x-python",
   "name": "python",
   "nbconvert_exporter": "python",
   "pygments_lexer": "ipython3",
   "version": "3.10.9"
  },
  "orig_nbformat": 4
 },
 "nbformat": 4,
 "nbformat_minor": 2
}
