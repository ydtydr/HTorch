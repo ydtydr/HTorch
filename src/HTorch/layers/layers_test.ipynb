{
 "cells": [
  {
   "cell_type": "code",
   "execution_count": 11,
   "metadata": {},
   "outputs": [],
   "source": [
    "import torch\n",
    "import torch.nn.functional as F\n",
    "import math\n",
    "from HTorch import HParameter, HTensor"
   ]
  },
  {
   "cell_type": "code",
   "execution_count": 2,
   "metadata": {},
   "outputs": [],
   "source": [
    "class HEmbedding(torch.nn.Embedding):\n",
    "    def __init__(self, *args, manifold='PoincareBall', curvature=-1.0, **kwargs):\n",
    "        super(HEmbedding, self).__init__(*args, **kwargs)\n",
    "        self.weight = HParameter(self.weight, manifold=manifold, curvature=curvature)\n",
    "        self.weight.init_weights()\n",
    "    \n",
    "    def forward(self, input):\n",
    "        output = super().forward(input).as_subclass(HTensor)\n",
    "        output.manifold = self.weight.manifold\n",
    "        output.curvature = self.weight.curvature\n",
    "        return output"
   ]
  },
  {
   "cell_type": "code",
   "execution_count": 3,
   "metadata": {},
   "outputs": [],
   "source": [
    "curv = -1.2\n",
    "curv = torch.nn.Parameter(torch.tensor(curv))"
   ]
  },
  {
   "cell_type": "code",
   "execution_count": 20,
   "metadata": {},
   "outputs": [
    {
     "name": "stdout",
     "output_type": "stream",
     "text": [
      "True\n"
     ]
    }
   ],
   "source": [
    "x = HTensor([2,2], curvature = curv).proj_()\n",
    "print(x.curvature.is_leaf)"
   ]
  },
  {
   "cell_type": "code",
   "execution_count": 4,
   "metadata": {},
   "outputs": [
    {
     "name": "stdout",
     "output_type": "stream",
     "text": [
      "Hyperbolic tensor([[ 9.6396e-06,  1.4593e-06],\n",
      "        [-8.5606e-06, -1.1475e-06]], grad_fn=<AliasBackward0>), manifold=PoincareBall, curvature=-1.2000000476837158\n",
      "[Hyperbolic Parameter containing:\n",
      "tensor([[ 9.6396e-06,  1.4593e-06],\n",
      "        [-8.5606e-06, -1.1475e-06],\n",
      "        [-8.6799e-06, -5.0161e-06]], requires_grad=True), manifold=PoincareBall, curvature=-1.2000000476837158]\n"
     ]
    }
   ],
   "source": [
    "a = HEmbedding(3,2,curvature=curv)\n",
    "x = torch.tensor([0,1]).long()\n",
    "emb = a(x)\n",
    "print(emb)\n",
    "print(list(a.parameters()))"
   ]
  },
  {
   "cell_type": "code",
   "execution_count": 5,
   "metadata": {},
   "outputs": [],
   "source": [
    "class HypLinear(torch.nn.Linear):\n",
    "    \"\"\"\n",
    "    Hyperbolic linear layer.\n",
    "    \"\"\"\n",
    "    def __init__(self, *args, dropout=0.0, **kwargs):\n",
    "        super(HypLinear, self).__init__(*args, **kwargs)\n",
    "        self.reset_parameters()\n",
    "        self.dropout = dropout\n",
    "        \n",
    "    def reset_parameters(self):\n",
    "        torch.nn.init.xavier_uniform_(self.weight, gain=math.sqrt(2))\n",
    "        torch.nn.init.constant_(self.bias, 0)\n",
    "\n",
    "    def forward(self, x:HTensor):\n",
    "        drop_weight = F.dropout(self.weight, self.dropout, training=self.training)\n",
    "        res = x.mobius_matvec(drop_weight, x).proj()\n",
    "        if self.bias is not None:\n",
    "            bias = x.proj_tan0(self.bias.view(1, -1))\n",
    "            hyp_bias = x.expmap0(bias).proj()\n",
    "            res = res.mobius_add(res, hyp_bias).proj()\n",
    "        return res\n",
    "    \n",
    "class HypAgg(torch.nn.Module):\n",
    "    \"\"\"\n",
    "    Hyperbolic aggregation layer.\n",
    "    \"\"\"\n",
    "    def __init__(self, in_features, dropout, use_att, local_agg):\n",
    "        super(HypAgg, self).__init__()\n",
    "        self.in_features = in_features\n",
    "        self.dropout = dropout\n",
    "        self.local_agg = local_agg\n",
    "        self.use_att = use_att\n",
    "        if self.use_att:\n",
    "            self.att = DenseAtt(in_features, dropout)\n",
    "\n",
    "    def forward(self, x: HTensor, adj):\n",
    "        abs_curvature = abs(x.curvature)\n",
    "        x_tangent = x.logmap0(x)\n",
    "        if self.use_att:\n",
    "            if self.local_agg:\n",
    "                x_local_tangent = []\n",
    "                for i in range(x.size(0)):\n",
    "                    x_local_tangent.append(\n",
    "                        x.logmap(x[i], x)\n",
    "                    )\n",
    "                x_local_tangent = torch.stack(x_local_tangent, dim=0)\n",
    "                adj_att = self.att(x_tangent, adj)\n",
    "                att_rep = adj_att.unsqueeze(-1) * x_local_tangent\n",
    "                support_t = torch.sum(\n",
    "                    adj_att.unsqueeze(-1) * x_local_tangent, dim=1)\n",
    "                output = x.expmap(x, support_t).proj()\n",
    "                return output\n",
    "            else:\n",
    "                adj_att = self.att(x_tangent, adj)\n",
    "                support_t = torch.matmul(adj_att, x_tangent)\n",
    "        else:\n",
    "            support_t = torch.spmm(adj, x_tangent)\n",
    "        output = x.expmap0(x, support_t).proj()\n",
    "        return output\n",
    "    \n",
    "class HypAct(torch.nn.Module):\n",
    "    \"\"\"\n",
    "    Hyperbolic activation layer.\n",
    "    \"\"\"\n",
    "    def __init__(self, act, c_in, c_out):\n",
    "        super(HypAct, self).__init__()\n",
    "        # maybe we can give a manifold argument, and let it work across HTensors on different manifolds\n",
    "        self.act = act\n",
    "        self.c_in = c_in\n",
    "        self.c_out = c_out\n",
    "\n",
    "    def forward(self, x: HTensor):\n",
    "        ## now can only work in one model\n",
    "        assert self.c_in == x.curvature, \"inconsistence curvatures between input and specified c_in\"\n",
    "        xt = self.act(x.logmap0(x))\n",
    "        xt = x.manifold.proj_tan0(xt, c=self.c_out)\n",
    "        res = x.manifold.expmap0(xt, c=self.c_out).as_subclass(HTensor)\n",
    "        res.manifold = x.manifold\n",
    "        res.curvature = self.c_out\n",
    "        return res.proj()\n",
    "    \n",
    "    def extra_repr(self):\n",
    "        return 'c_in={}, c_out={}'.format(\n",
    "            self.c_in, self.c_out\n",
    "        )"
   ]
  },
  {
   "cell_type": "code",
   "execution_count": 6,
   "metadata": {},
   "outputs": [
    {
     "name": "stdout",
     "output_type": "stream",
     "text": [
      "HypLinear(in_features=2, out_features=3, bias=True)\n"
     ]
    }
   ],
   "source": [
    "model = HypLinear(2,3)\n",
    "print(model)"
   ]
  },
  {
   "cell_type": "code",
   "execution_count": 7,
   "metadata": {},
   "outputs": [
    {
     "data": {
      "text/plain": [
       "Parameter containing:\n",
       "tensor([[-0.7453, -0.3380],\n",
       "        [ 0.0555, -1.1049],\n",
       "        [ 1.2846,  1.4632]], requires_grad=True)"
      ]
     },
     "execution_count": 7,
     "metadata": {},
     "output_type": "execute_result"
    }
   ],
   "source": [
    "model.weight"
   ]
  },
  {
   "cell_type": "code",
   "execution_count": 9,
   "metadata": {},
   "outputs": [
    {
     "data": {
      "text/plain": [
       "Hyperbolic tensor([[-7.6773e-06, -1.0775e-06,  1.4518e-05],\n",
       "        [ 6.7678e-06,  7.9281e-07, -1.2676e-05]], grad_fn=<AliasBackward0>), manifold=PoincareBall, curvature=-1.2000000476837158"
      ]
     },
     "execution_count": 9,
     "metadata": {},
     "output_type": "execute_result"
    }
   ],
   "source": [
    "model(emb)"
   ]
  },
  {
   "cell_type": "code",
   "execution_count": null,
   "metadata": {},
   "outputs": [],
   "source": []
  },
  {
   "cell_type": "code",
   "execution_count": null,
   "metadata": {},
   "outputs": [],
   "source": []
  },
  {
   "cell_type": "code",
   "execution_count": null,
   "metadata": {},
   "outputs": [],
   "source": []
  }
 ],
 "metadata": {
  "kernelspec": {
   "display_name": "hyla",
   "language": "python",
   "name": "hyla"
  },
  "language_info": {
   "codemirror_mode": {
    "name": "ipython",
    "version": 3
   },
   "file_extension": ".py",
   "mimetype": "text/x-python",
   "name": "python",
   "nbconvert_exporter": "python",
   "pygments_lexer": "ipython3",
   "version": "3.6.12"
  }
 },
 "nbformat": 4,
 "nbformat_minor": 4
}
