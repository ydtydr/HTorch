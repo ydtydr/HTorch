{
 "cells": [
  {
   "cell_type": "code",
   "execution_count": 2,
   "metadata": {},
   "outputs": [],
   "source": [
    "from HTorch import HTensor, HParameter\n",
    "from HTorch.manifolds import Euclidean, PoincareBall, Lorentz, HalfSpace, Sphere\n",
    "import torch"
   ]
  },
  {
   "cell_type": "code",
   "execution_count": 22,
   "metadata": {},
   "outputs": [],
   "source": [
    "cur = torch.tensor(-1.2)\n",
    "cur = torch.nn.Parameter(cur)"
   ]
  },
  {
   "cell_type": "code",
   "execution_count": 28,
   "metadata": {},
   "outputs": [
    {
     "name": "stdout",
     "output_type": "stream",
     "text": [
      "Hyperbolic tensor([[0.2000, 0.3000, 0.1000],\n",
      "        [0.2000, 0.3000, 0.1000]]), manifold=PoincareBall, curvature=-1.2000000476837158 Parameter containing:\n",
      "tensor(-1.2000, requires_grad=True)\n"
     ]
    }
   ],
   "source": [
    "a = HTensor([[0.2, 0.3, 0.1],[0.2, 0.3, 0.1]], curvature=cur)\n",
    "print(a, a.curvature)"
   ]
  },
  {
   "cell_type": "code",
   "execution_count": 31,
   "metadata": {},
   "outputs": [
    {
     "data": {
      "text/plain": [
       "<bound method HTensor.expmap of Hyperbolic tensor([0.2000, 0.3000, 0.1000]), manifold=PoincareBall, curvature=-1.2000000476837158>"
      ]
     },
     "execution_count": 31,
     "metadata": {},
     "output_type": "execute_result"
    }
   ],
   "source": [
    "a[0].expmap"
   ]
  },
  {
   "cell_type": "code",
   "execution_count": 24,
   "metadata": {},
   "outputs": [
    {
     "name": "stdout",
     "output_type": "stream",
     "text": [
      "Hyperbolic Parameter containing:\n",
      "tensor([0.2000, 0.3000, 0.1000], requires_grad=True), manifold=PoincareBall, curvature=-1.2000000476837158\n",
      "Parameter containing:\n",
      "tensor(-1.2000, requires_grad=True)\n"
     ]
    }
   ],
   "source": [
    "u = HParameter(a)\n",
    "print(u)\n",
    "print(u.curvature)"
   ]
  },
  {
   "cell_type": "code",
   "execution_count": 25,
   "metadata": {},
   "outputs": [
    {
     "name": "stdout",
     "output_type": "stream",
     "text": [
      "tensor(-0.6000, grad_fn=<AddBackward0>)\n"
     ]
    }
   ],
   "source": [
    "loss = u.sum() + cur\n",
    "print(loss)\n",
    "loss.backward()"
   ]
  },
  {
   "cell_type": "code",
   "execution_count": 26,
   "metadata": {},
   "outputs": [
    {
     "data": {
      "text/plain": [
       "tensor(1.)"
      ]
     },
     "execution_count": 26,
     "metadata": {},
     "output_type": "execute_result"
    }
   ],
   "source": [
    "cur.grad"
   ]
  },
  {
   "cell_type": "code",
   "execution_count": 27,
   "metadata": {},
   "outputs": [
    {
     "data": {
      "text/plain": [
       "tensor([1., 1., 1.])"
      ]
     },
     "execution_count": 27,
     "metadata": {},
     "output_type": "execute_result"
    }
   ],
   "source": [
    "u.grad"
   ]
  },
  {
   "cell_type": "code",
   "execution_count": null,
   "metadata": {},
   "outputs": [],
   "source": []
  },
  {
   "cell_type": "code",
   "execution_count": 2,
   "metadata": {},
   "outputs": [],
   "source": [
    "a = HTensor([0.2, 0.3, 0.1], manifold='PoincareBall')\n",
    "b = HTensor([0.2, 0.3, 0.1], manifold='HalfSpace')\n",
    "ori = HTensor([0.0,0.0, 0.0], manifold='PoincareBall')"
   ]
  },
  {
   "cell_type": "code",
   "execution_count": 3,
   "metadata": {},
   "outputs": [
    {
     "name": "stdout",
     "output_type": "stream",
     "text": [
      "Hyperbolic Parameter containing:\n",
      "Parameter(HParameter([0.2000, 0.3000, 0.1000], requires_grad=True)), manifold=PoincareBall, curvature=-1.0\n",
      "-1.0\n"
     ]
    }
   ],
   "source": [
    "u = HParameter(a, )\n",
    "print(u)\n",
    "print(u.curvature)"
   ]
  },
  {
   "cell_type": "code",
   "execution_count": 4,
   "metadata": {},
   "outputs": [
    {
     "name": "stdout",
     "output_type": "stream",
     "text": [
      "tensor(0.7865, grad_fn=<AliasBackward0>)\n"
     ]
    }
   ],
   "source": [
    "loss = u.Hdist(ori)\n",
    "print(loss)"
   ]
  },
  {
   "cell_type": "code",
   "execution_count": 5,
   "metadata": {},
   "outputs": [],
   "source": [
    "loss.backward()"
   ]
  },
  {
   "cell_type": "code",
   "execution_count": 6,
   "metadata": {},
   "outputs": [
    {
     "data": {
      "text/plain": [
       "tensor([1.2431, 1.8646, 0.6215])"
      ]
     },
     "execution_count": 6,
     "metadata": {},
     "output_type": "execute_result"
    }
   ],
   "source": [
    "u.grad"
   ]
  },
  {
   "cell_type": "code",
   "execution_count": 7,
   "metadata": {},
   "outputs": [
    {
     "data": {
      "text/plain": [
       "-1.0"
      ]
     },
     "execution_count": 7,
     "metadata": {},
     "output_type": "execute_result"
    }
   ],
   "source": [
    "u.curvature"
   ]
  },
  {
   "cell_type": "markdown",
   "metadata": {},
   "source": [
    "### check sphere "
   ]
  },
  {
   "cell_type": "code",
   "execution_count": 8,
   "metadata": {},
   "outputs": [],
   "source": [
    "a = HTensor([0.2, 0.3, 0.1], manifold='Sphere', curvature=1.0)\n",
    "b = HTensor([0.1, 0.2, 0.1], manifold='Sphere', curvature=1.0)"
   ]
  },
  {
   "cell_type": "code",
   "execution_count": 10,
   "metadata": {},
   "outputs": [
    {
     "name": "stdout",
     "output_type": "stream",
     "text": [
      "Warning: data not on the manifold, projecting ...\n",
      "Warning: data not on the manifold, projecting ...\n"
     ]
    },
    {
     "data": {
      "text/plain": [
       "(tensor(False), tensor(False))"
      ]
     },
     "execution_count": 10,
     "metadata": {},
     "output_type": "execute_result"
    }
   ],
   "source": [
    "a.check_(), b.check_()"
   ]
  },
  {
   "cell_type": "code",
   "execution_count": 13,
   "metadata": {},
   "outputs": [
    {
     "name": "stdout",
     "output_type": "stream",
     "text": [
      "Hyperbolic HTensor([0.5345, 0.8018, 0.2673]), manifold=Sphere, curvature=1.0 Hyperbolic HTensor([0.4082, 0.8165, 0.4082]), manifold=Sphere, curvature=1.0\n"
     ]
    },
    {
     "data": {
      "text/plain": [
       "(tensor(True), tensor(True))"
      ]
     },
     "execution_count": 13,
     "metadata": {},
     "output_type": "execute_result"
    }
   ],
   "source": [
    "print(a, b)\n",
    "a.check_(), b.check_()"
   ]
  },
  {
   "cell_type": "code",
   "execution_count": 14,
   "metadata": {},
   "outputs": [
    {
     "name": "stdout",
     "output_type": "stream",
     "text": [
      "Hyperbolic Parameter containing:\n",
      "Parameter(HParameter([0.5345, 0.8018, 0.2673], requires_grad=True)), manifold=Sphere, curvature=1.0\n",
      "1.0\n"
     ]
    }
   ],
   "source": [
    "u = HParameter(a)\n",
    "print(u)\n",
    "print(u.curvature)"
   ]
  },
  {
   "cell_type": "code",
   "execution_count": 15,
   "metadata": {},
   "outputs": [
    {
     "name": "stdout",
     "output_type": "stream",
     "text": [
      "tensor(0.1901, grad_fn=<AliasBackward0>)\n"
     ]
    }
   ],
   "source": [
    "loss = u.Hdist(b)\n",
    "print(loss)"
   ]
  },
  {
   "cell_type": "code",
   "execution_count": 16,
   "metadata": {},
   "outputs": [],
   "source": [
    "loss.backward()"
   ]
  },
  {
   "cell_type": "code",
   "execution_count": 17,
   "metadata": {},
   "outputs": [
    {
     "data": {
      "text/plain": [
       "tensor([-2.1602, -4.3205, -2.1602])"
      ]
     },
     "execution_count": 17,
     "metadata": {},
     "output_type": "execute_result"
    }
   ],
   "source": [
    "u.grad"
   ]
  },
  {
   "cell_type": "code",
   "execution_count": null,
   "metadata": {},
   "outputs": [],
   "source": []
  },
  {
   "cell_type": "code",
   "execution_count": null,
   "metadata": {},
   "outputs": [],
   "source": []
  },
  {
   "cell_type": "code",
   "execution_count": null,
   "metadata": {},
   "outputs": [],
   "source": []
  }
 ],
 "metadata": {
  "kernelspec": {
   "display_name": "hyla",
   "language": "python",
   "name": "hyla"
  },
  "language_info": {
   "codemirror_mode": {
    "name": "ipython",
    "version": 3
   },
   "file_extension": ".py",
   "mimetype": "text/x-python",
   "name": "python",
   "nbconvert_exporter": "python",
   "pygments_lexer": "ipython3",
   "version": "3.6.12"
  }
 },
 "nbformat": 4,
 "nbformat_minor": 4
}
