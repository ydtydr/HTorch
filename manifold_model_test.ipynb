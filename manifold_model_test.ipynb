{
 "cells": [
  {
   "cell_type": "code",
   "execution_count": 1,
   "metadata": {},
   "outputs": [
    {
     "name": "stderr",
     "output_type": "stream",
     "text": [
      "/home/ty367/anaconda3/envs/hy-torch/lib/python3.10/site-packages/tqdm/auto.py:22: TqdmWarning: IProgress not found. Please update jupyter and ipywidgets. See https://ipywidgets.readthedocs.io/en/stable/user_install.html\n",
      "  from .autonotebook import tqdm as notebook_tqdm\n"
     ]
    }
   ],
   "source": [
    "import torch, math\n",
    "from HTorch.manifolds import Euclidean, PoincareBall, Lorentz, HalfSpace, Sphere\n",
    "import HTorch\n",
    "sq_norm = HTorch.utils.sq_norm\n",
    "arcosh = HTorch.utils.arcosh\n",
    "arsinh = HTorch.utils.arsinh"
   ]
  },
  {
   "cell_type": "code",
   "execution_count": 2,
   "metadata": {},
   "outputs": [],
   "source": [
    "manifold_maps = {'euclidean':Euclidean, 'poincare':PoincareBall, 'lorentz':Lorentz, 'halfspace':HalfSpace, 'Sphere':Sphere}"
   ]
  },
  {
   "cell_type": "code",
   "execution_count": 125,
   "metadata": {},
   "outputs": [],
   "source": [
    "poin = PoincareBall()\n",
    "lore = Lorentz()\n",
    "hal = HalfSpace()\n",
    "sph = Sphere()\n",
    "c=1.2"
   ]
  },
  {
   "cell_type": "markdown",
   "metadata": {},
   "source": [
    "### Initialize poincare space points"
   ]
  },
  {
   "cell_type": "code",
   "execution_count": 149,
   "metadata": {},
   "outputs": [
    {
     "name": "stdout",
     "output_type": "stream",
     "text": [
      "tensor([0.5400]) 0.8333333333333334\n",
      "tensor([1.8841])\n"
     ]
    }
   ],
   "source": [
    "q = 0.1\n",
    "xp = torch.tensor([0.3, 0.3, 0.6])\n",
    "ori = torch.tensor([0.0, 0.0, 0.0])\n",
    "yp = q * xp\n",
    "print(sq_norm(xp), 1.0 / c)\n",
    "print(poin.distance(xp, yp, c))"
   ]
  },
  {
   "cell_type": "code",
   "execution_count": 155,
   "metadata": {},
   "outputs": [],
   "source": [
    "def Hyx(x, y, c):\n",
    "    return sq_norm(y) + 1/c - (1.0 + 1.0 / (c * sq_norm(x))) * (x * y).sum(dim=-1)\n",
    "\n",
    "def pro_dist(x, y, c):\n",
    "    hyx = Hyx(x, y, c)\n",
    "    nom = 2 * c ** 1.5 * hyx * sq_norm(x) ** 0.5\n",
    "    denom = (1.0 - c * sq_norm(x)) * (1.0 - c * sq_norm(y))\n",
    "    return arsinh(nom / denom) / c ** 0.5\n",
    "\n",
    "def hori_dist(x, y, c):\n",
    "    theta = torch.acos((x*y).sum(dim=-1)/(sq_norm(x)**0.5 * sq_norm(y)**0.5).clamp_(min=1e-8))\n",
    "    nom = 2 * c ** 0.5 * sq_norm(y)**0.5 * torch.sin(theta)\n",
    "    denom = 1.0 - c * sq_norm(y)\n",
    "    return arsinh(nom / denom) / c ** 0.5"
   ]
  },
  {
   "cell_type": "code",
   "execution_count": 156,
   "metadata": {},
   "outputs": [
    {
     "data": {
      "text/plain": [
       "tensor([2.0313])"
      ]
     },
     "execution_count": 156,
     "metadata": {},
     "output_type": "execute_result"
    }
   ],
   "source": [
    "hori_dist(ori, xp, c)"
   ]
  },
  {
   "cell_type": "code",
   "execution_count": 158,
   "metadata": {},
   "outputs": [
    {
     "data": {
      "text/plain": [
       "tensor([2.0313])"
      ]
     },
     "execution_count": 158,
     "metadata": {},
     "output_type": "execute_result"
    }
   ],
   "source": [
    "poin.distance(ori, xp, c)"
   ]
  },
  {
   "cell_type": "code",
   "execution_count": null,
   "metadata": {},
   "outputs": [],
   "source": []
  },
  {
   "cell_type": "code",
   "execution_count": null,
   "metadata": {},
   "outputs": [],
   "source": []
  },
  {
   "cell_type": "code",
   "execution_count": null,
   "metadata": {},
   "outputs": [],
   "source": [
    "xp = torch.tensor([0.2, 0.3, 0.1])\n",
    "yp = torch.tensor([0.39, 0.41, 0.5])\n",
    "print(poin.distance(xp, yp, c))"
   ]
  },
  {
   "cell_type": "code",
   "execution_count": 5,
   "metadata": {},
   "outputs": [
    {
     "name": "stdout",
     "output_type": "stream",
     "text": [
      "tensor([0.2000, 0.3000, 0.1000], requires_grad=True)\n"
     ]
    }
   ],
   "source": [
    "# poincare exp map\n",
    "op = torch.tensor([0.0,0.0,0.0])\n",
    "ap = xp.clone().requires_grad_()\n",
    "print(ap)"
   ]
  },
  {
   "cell_type": "code",
   "execution_count": 6,
   "metadata": {},
   "outputs": [
    {
     "name": "stdout",
     "output_type": "stream",
     "text": [
      "tensor(0.7950, grad_fn=<DivBackward0>)\n",
      "tensor([1.2849, 1.9274, 0.6425])\n"
     ]
    }
   ],
   "source": [
    "dist_ap = poin.distance(ap, op, c)\n",
    "print(dist_ap)\n",
    "dist_ap.backward()\n",
    "print(ap.grad)"
   ]
  },
  {
   "cell_type": "code",
   "execution_count": 7,
   "metadata": {},
   "outputs": [
    {
     "name": "stdout",
     "output_type": "stream",
     "text": [
      "tensor([0.2224, 0.3335, 0.1112])\n",
      "tensor([0.3681, 0.5522, 0.1841], grad_fn=<DivBackward0>) tensor(1.7950, grad_fn=<DivBackward0>)\n"
     ]
    }
   ],
   "source": [
    "grad = poin.egrad2rgrad(ap, ap.grad, c)\n",
    "print(grad)\n",
    "bp = poin.expmap(ap, grad, c)\n",
    "print(bp, poin.distance(bp, op, c))"
   ]
  },
  {
   "cell_type": "code",
   "execution_count": 8,
   "metadata": {},
   "outputs": [
    {
     "name": "stdout",
     "output_type": "stream",
     "text": [
      "tensor([1.0000])\n"
     ]
    }
   ],
   "source": [
    "print(poin.norm_t(grad, ap, c))"
   ]
  },
  {
   "cell_type": "markdown",
   "metadata": {},
   "source": [
    "### convert poincare to lorentz"
   ]
  },
  {
   "cell_type": "code",
   "execution_count": 9,
   "metadata": {},
   "outputs": [
    {
     "name": "stdout",
     "output_type": "stream",
     "text": [
      "tensor([1.5769])\n"
     ]
    }
   ],
   "source": [
    "xl = poin.to_lorentz(xp, c)\n",
    "yl = poin.to_lorentz(yp, c)\n",
    "print(lore.distance(xl, yl, c))"
   ]
  },
  {
   "cell_type": "markdown",
   "metadata": {},
   "source": [
    "convert lorentz back to poincare to check"
   ]
  },
  {
   "cell_type": "code",
   "execution_count": 10,
   "metadata": {},
   "outputs": [
    {
     "data": {
      "text/plain": [
       "(tensor([0.2000, 0.3000, 0.1000]), tensor([0.3900, 0.4100, 0.5000]))"
      ]
     },
     "execution_count": 10,
     "metadata": {},
     "output_type": "execute_result"
    }
   ],
   "source": [
    "lore.to_poincare(xl, c), lore.to_poincare(yl, c)"
   ]
  },
  {
   "cell_type": "code",
   "execution_count": 11,
   "metadata": {},
   "outputs": [
    {
     "name": "stdout",
     "output_type": "stream",
     "text": [
      "tensor([0.4808, 0.7212, 0.2404, 1.2815], requires_grad=True)\n"
     ]
    }
   ],
   "source": [
    "# lorentz exp map\n",
    "ol = torch.tensor([0.0, 0.0, 0.0, 1/math.sqrt(c)])\n",
    "al = xl.clone().requires_grad_()\n",
    "print(al)"
   ]
  },
  {
   "cell_type": "code",
   "execution_count": 12,
   "metadata": {},
   "outputs": [
    {
     "name": "stdout",
     "output_type": "stream",
     "text": [
      "tensor([0.7950], grad_fn=<ClampBackward1>)\n",
      "tensor([0.0000, 0.0000, 0.0000, 1.0149])\n"
     ]
    }
   ],
   "source": [
    "dist_al = lore.distance(al, ol, c)\n",
    "print(dist_al)\n",
    "dist_al.backward()\n",
    "print(al.grad)"
   ]
  },
  {
   "cell_type": "code",
   "execution_count": 13,
   "metadata": {},
   "outputs": [
    {
     "name": "stdout",
     "output_type": "stream",
     "text": [
      "tensor([0.7504, 1.1256, 0.3752, 0.9853], grad_fn=<AddcmulBackward0>)\n",
      "tensor([1.7090, 2.5635, 0.8545, 3.3250], grad_fn=<AddBackward0>) tensor([1.7950], grad_fn=<ClampBackward1>)\n"
     ]
    }
   ],
   "source": [
    "grad = lore.egrad2rgrad(al, al.grad, c)\n",
    "print(grad)\n",
    "bl = lore.expmap(al, grad, c)\n",
    "print(bl, lore.distance(bl, ol, c))"
   ]
  },
  {
   "cell_type": "code",
   "execution_count": 14,
   "metadata": {},
   "outputs": [
    {
     "name": "stdout",
     "output_type": "stream",
     "text": [
      "tensor([1.0000], grad_fn=<SqrtBackward0>)\n"
     ]
    }
   ],
   "source": [
    "print(lore.norm_t(grad))"
   ]
  },
  {
   "cell_type": "markdown",
   "metadata": {},
   "source": [
    "### convert poincare to halfspace"
   ]
  },
  {
   "cell_type": "code",
   "execution_count": 15,
   "metadata": {},
   "outputs": [
    {
     "name": "stdout",
     "output_type": "stream",
     "text": [
      "tensor([1.5769])\n"
     ]
    }
   ],
   "source": [
    "xh = poin.to_halfspace(xp, c)\n",
    "yh = poin.to_halfspace(yp, c)\n",
    "print(hal.distance(xh, yh, c))"
   ]
  },
  {
   "cell_type": "markdown",
   "metadata": {},
   "source": [
    "convert halfspace back to check"
   ]
  },
  {
   "cell_type": "code",
   "execution_count": 16,
   "metadata": {},
   "outputs": [
    {
     "data": {
      "text/plain": [
       "(tensor([0.2000, 0.3000, 0.1000]), tensor([0.3900, 0.4100, 0.5000]))"
      ]
     },
     "execution_count": 16,
     "metadata": {},
     "output_type": "execute_result"
    }
   ],
   "source": [
    "hal.to_poincare(xh, c), hal.to_poincare(yh, c)"
   ]
  },
  {
   "cell_type": "code",
   "execution_count": 17,
   "metadata": {},
   "outputs": [
    {
     "name": "stdout",
     "output_type": "stream",
     "text": [
      "tensor([0.4215, 0.6323, 0.8004], requires_grad=True)\n"
     ]
    }
   ],
   "source": [
    "# halfspace exp map\n",
    "oh = torch.tensor([0,0, 1/math.sqrt(c)])\n",
    "ah = xh.clone().requires_grad_()\n",
    "print(ah)"
   ]
  },
  {
   "cell_type": "code",
   "execution_count": 18,
   "metadata": {},
   "outputs": [
    {
     "name": "stdout",
     "output_type": "stream",
     "text": [
      "tensor([0.7950], grad_fn=<DivBackward0>)\n",
      "tensor([ 0.5345,  0.8018, -0.6101])\n"
     ]
    }
   ],
   "source": [
    "dist_ah = hal.distance(ah, oh, c)\n",
    "print(dist_ah)\n",
    "dist_ah.backward()\n",
    "print(ah.grad)"
   ]
  },
  {
   "cell_type": "code",
   "execution_count": 19,
   "metadata": {},
   "outputs": [
    {
     "data": {
      "text/plain": [
       "tensor([0.4215, 0.6323, 0.8004], requires_grad=True)"
      ]
     },
     "execution_count": 19,
     "metadata": {},
     "output_type": "execute_result"
    }
   ],
   "source": [
    "ah"
   ]
  },
  {
   "cell_type": "code",
   "execution_count": 20,
   "metadata": {},
   "outputs": [
    {
     "name": "stdout",
     "output_type": "stream",
     "text": [
      "grad tensor([ 0.4109,  0.6164, -0.4690], grad_fn=<MulBackward0>)\n",
      "tensor([0.6315, 0.9472, 0.3373], grad_fn=<CatBackward0>) tensor([1.7950], grad_fn=<DivBackward0>)\n"
     ]
    }
   ],
   "source": [
    "grad = hal.egrad2rgrad(ah, ah.grad, c)\n",
    "print('grad', grad)\n",
    "bh = hal.expmap(ah, grad, c)\n",
    "print(bh, hal.distance(bh, oh, c))"
   ]
  },
  {
   "cell_type": "code",
   "execution_count": 21,
   "metadata": {},
   "outputs": [
    {
     "name": "stdout",
     "output_type": "stream",
     "text": [
      "tensor([1.], grad_fn=<SqrtBackward0>)\n"
     ]
    }
   ],
   "source": [
    "print(hal.norm_t(grad, ah, c))"
   ]
  },
  {
   "cell_type": "markdown",
   "metadata": {},
   "source": [
    "### test exp/log map in halfspace model"
   ]
  },
  {
   "cell_type": "code",
   "execution_count": 22,
   "metadata": {},
   "outputs": [],
   "source": [
    "v = torch.tensor([0.01, 0.02, 0.001])"
   ]
  },
  {
   "cell_type": "code",
   "execution_count": 23,
   "metadata": {},
   "outputs": [
    {
     "name": "stdout",
     "output_type": "stream",
     "text": [
      "tensor([0.4315, 0.6523, 0.8011])\n"
     ]
    }
   ],
   "source": [
    "xxh = hal.expmap(xh, v, c)\n",
    "print(xxh)"
   ]
  },
  {
   "cell_type": "code",
   "execution_count": 24,
   "metadata": {},
   "outputs": [
    {
     "data": {
      "text/plain": [
       "tensor([0.0255])"
      ]
     },
     "execution_count": 24,
     "metadata": {},
     "output_type": "execute_result"
    }
   ],
   "source": [
    "hal.distance(xh, xxh, c)"
   ]
  },
  {
   "cell_type": "code",
   "execution_count": 25,
   "metadata": {},
   "outputs": [
    {
     "data": {
      "text/plain": [
       "tensor([0.0255])"
      ]
     },
     "execution_count": 25,
     "metadata": {},
     "output_type": "execute_result"
    }
   ],
   "source": [
    "hal.norm_t(v, xh, c)"
   ]
  },
  {
   "cell_type": "code",
   "execution_count": 26,
   "metadata": {},
   "outputs": [
    {
     "data": {
      "text/plain": [
       "tensor([0.0100, 0.0200, 0.0010])"
      ]
     },
     "execution_count": 26,
     "metadata": {},
     "output_type": "execute_result"
    }
   ],
   "source": [
    "hal.logmap(xh, xxh, c)"
   ]
  },
  {
   "cell_type": "markdown",
   "metadata": {},
   "source": [
    "### test sphere exp/log map"
   ]
  },
  {
   "cell_type": "code",
   "execution_count": 4,
   "metadata": {},
   "outputs": [
    {
     "name": "stdout",
     "output_type": "stream",
     "text": [
      "tensor([0.3780, 0.5669, 0.1890]) tensor([0.3652, 0.3839, 0.4682])\n",
      "tensor(0.3373)\n"
     ]
    }
   ],
   "source": [
    "c=2.0\n",
    "xp = torch.tensor([0.2, 0.3, 0.1])\n",
    "yp = torch.tensor([0.39, 0.41, 0.5])\n",
    "xp = sph.proj(xp, c)\n",
    "yp = sph.proj(yp, c)\n",
    "print(xp, yp)\n",
    "print(sph.distance(xp, yp, c))"
   ]
  },
  {
   "cell_type": "code",
   "execution_count": 5,
   "metadata": {},
   "outputs": [
    {
     "name": "stdout",
     "output_type": "stream",
     "text": [
      "tensor([0.3780, 0.5669, 0.1890], requires_grad=True)\n"
     ]
    }
   ],
   "source": [
    "# sphere exp map\n",
    "xp.requires_grad_()\n",
    "print(xp)"
   ]
  },
  {
   "cell_type": "code",
   "execution_count": 6,
   "metadata": {},
   "outputs": [
    {
     "name": "stdout",
     "output_type": "stream",
     "text": [
      "tensor(0.3373, grad_fn=<MulBackward0>)\n",
      "tensor([-1.1249, -1.1826, -1.4422])\n"
     ]
    }
   ],
   "source": [
    "dist_ap = sph.distance(xp, yp, c)\n",
    "print(dist_ap)\n",
    "dist_ap.backward()\n",
    "print(xp.grad)"
   ]
  },
  {
   "cell_type": "code",
   "execution_count": 7,
   "metadata": {},
   "outputs": [
    {
     "name": "stdout",
     "output_type": "stream",
     "text": [
      "tensor([-0.0907,  0.3688, -0.9251])\n",
      "tensor([-0.0044,  0.3460, -0.6167], grad_fn=<AddBackward0>) tensor(1.3373, grad_fn=<MulBackward0>)\n"
     ]
    }
   ],
   "source": [
    "grad = sph.egrad2rgrad(xp, xp.grad, c)\n",
    "print(grad)\n",
    "bp = sph.expmap(xp, grad, c)\n",
    "print(bp, sph.distance(bp, yp, c))"
   ]
  },
  {
   "cell_type": "code",
   "execution_count": 15,
   "metadata": {},
   "outputs": [
    {
     "data": {
      "text/plain": [
       "tensor(True)"
      ]
     },
     "execution_count": 15,
     "metadata": {},
     "output_type": "execute_result"
    }
   ],
   "source": [
    "sph.check(bp, c)"
   ]
  },
  {
   "cell_type": "code",
   "execution_count": 8,
   "metadata": {},
   "outputs": [
    {
     "name": "stdout",
     "output_type": "stream",
     "text": [
      "tensor([1.0000])\n"
     ]
    }
   ],
   "source": [
    "print(sph.norm_t(grad, xp, c))"
   ]
  },
  {
   "cell_type": "code",
   "execution_count": 9,
   "metadata": {},
   "outputs": [
    {
     "name": "stdout",
     "output_type": "stream",
     "text": [
      "tensor([ 0.0007,  0.0102, -0.0089])\n"
     ]
    }
   ],
   "source": [
    "v = torch.tensor([0.01, 0.02, 0.003])\n",
    "v = sph.egrad2rgrad(yp, v, c)\n",
    "print(v)"
   ]
  },
  {
   "cell_type": "code",
   "execution_count": 10,
   "metadata": {},
   "outputs": [
    {
     "name": "stdout",
     "output_type": "stream",
     "text": [
      "tensor([0.3652, 0.3839, 0.4682]) tensor([0.3658, 0.3941, 0.4592])\n"
     ]
    }
   ],
   "source": [
    "yyp = sph.expmap(yp, v, c)\n",
    "print(yp, yyp)"
   ]
  },
  {
   "cell_type": "code",
   "execution_count": 11,
   "metadata": {},
   "outputs": [
    {
     "data": {
      "text/plain": [
       "(tensor(0.0136), tensor([0.0136]))"
      ]
     },
     "execution_count": 11,
     "metadata": {},
     "output_type": "execute_result"
    }
   ],
   "source": [
    "sph.distance(yp, yyp, c), sph.norm_t(v, yp, c)"
   ]
  },
  {
   "cell_type": "code",
   "execution_count": 12,
   "metadata": {},
   "outputs": [
    {
     "data": {
      "text/plain": [
       "tensor([ 0.0007,  0.0102, -0.0089])"
      ]
     },
     "execution_count": 12,
     "metadata": {},
     "output_type": "execute_result"
    }
   ],
   "source": [
    "sph.logmap(yp, yyp, c)"
   ]
  },
  {
   "cell_type": "code",
   "execution_count": null,
   "metadata": {},
   "outputs": [],
   "source": []
  }
 ],
 "metadata": {
  "kernelspec": {
   "display_name": "hy-torch",
   "language": "python",
   "name": "hy-torch"
  },
  "language_info": {
   "codemirror_mode": {
    "name": "ipython",
    "version": 3
   },
   "file_extension": ".py",
   "mimetype": "text/x-python",
   "name": "python",
   "nbconvert_exporter": "python",
   "pygments_lexer": "ipython3",
   "version": "3.10.4"
  }
 },
 "nbformat": 4,
 "nbformat_minor": 4
}
