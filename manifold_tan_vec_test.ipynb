{
 "cells": [
  {
   "cell_type": "code",
   "execution_count": 1,
   "metadata": {},
   "outputs": [],
   "source": [
    "import torch, math\n",
    "from HTorch.manifolds import Euclidean, PoincareBall, Lorentz, HalfSpace, Sphere\n",
    "from torch.nn import Parameter\n",
    "from HTorch.utils.math_utils import arcosh, cosh, sinh, sq_norm, inner_product\n",
    "\n",
    "L = Lorentz()\n",
    "B = PoincareBall()\n",
    "U = HalfSpace()"
   ]
  },
  {
   "cell_type": "markdown",
   "metadata": {},
   "source": [
    "## Lorentz to Poincare (correct)"
   ]
  },
  {
   "cell_type": "code",
   "execution_count": 2,
   "metadata": {},
   "outputs": [
    {
     "data": {
      "text/plain": [
       "(tensor([-0.4984,  0.0444, -0.1788,  0.2044, -0.1994, -0.3631, -0.1570, -0.2074,\n",
       "         -0.2915,  0.3771], dtype=torch.float64),\n",
       " tensor([-0.4984,  0.0444, -0.1788,  0.2044, -0.1994, -0.3631, -0.1570, -0.2074,\n",
       "         -0.2915,  0.3771], dtype=torch.float64),\n",
       " tensor(True))"
      ]
     },
     "execution_count": 2,
     "metadata": {},
     "output_type": "execute_result"
    }
   ],
   "source": [
    "torch.manual_seed(0)\n",
    "c = 1.2\n",
    "#L to B\n",
    "def to_poincare_tan(x, v, c):\n",
    "    sqrt_c = c ** 0.5\n",
    "    x_n = x[..., -1].unsqueeze(-1)\n",
    "    v_n = v[..., -1].unsqueeze(-1)\n",
    "    tmp = sqrt_c*x_n + 1\n",
    "    comp_1 = v[..., :-1]/tmp \n",
    "    comp_2 = ((sqrt_c*v_n)/tmp.square())*x[..., :-1]\n",
    "    return comp_1-comp_2\n",
    "\n",
    "# randomly init x \n",
    "xl = L.proj(torch.randn(21, 5, 11, dtype=torch.float64), c=c)\n",
    "assert L.check(xl, c) == True\n",
    "xl_tan = L.proj_tan(xl, torch.randn_like(xl), c)\n",
    "assert L.check_tan(xl, xl_tan, c) == True\n",
    "# get y through expmap\n",
    "yl = L.expmap(xl, xl_tan, c)\n",
    "# get tan in poincare\n",
    "xp_tan = to_poincare_tan(xl, xl_tan, c)\n",
    "xp_tan_prime = L.to_poincare_tan(xl, xl_tan, c)\n",
    "xp = L.to_poincare(xl, c)\n",
    "# yp transform from yl\n",
    "yp_from_L = L.to_poincare(yl, c)\n",
    "yp_from_expmap = B.expmap(xp, xp_tan, c)\n",
    "assert torch.all(torch.isclose(yp_from_L, yp_from_expmap))\n",
    "yp_from_L[0,0], yp_from_expmap[0,0], B.check(yp_from_expmap, c)"
   ]
  },
  {
   "cell_type": "markdown",
   "metadata": {},
   "source": [
    "## Lorentz to Halfspace (correct)"
   ]
  },
  {
   "cell_type": "code",
   "execution_count": 2,
   "metadata": {},
   "outputs": [
    {
     "data": {
      "text/plain": [
       "(tensor([ 0.0000e+00,  1.3878e-17,  2.7756e-17,  2.7756e-17,  2.7756e-17,\n",
       "         -2.7756e-17,  0.0000e+00,  0.0000e+00,  5.5511e-17,  0.0000e+00,\n",
       "         -6.9389e-18,  0.0000e+00,  0.0000e+00,  2.7756e-17, -1.7347e-18,\n",
       "          0.0000e+00,  0.0000e+00,  0.0000e+00,  0.0000e+00,  3.9031e-18],\n",
       "        dtype=torch.float64),\n",
       " tensor(True))"
      ]
     },
     "execution_count": 2,
     "metadata": {},
     "output_type": "execute_result"
    }
   ],
   "source": [
    "torch.manual_seed(0)\n",
    "c = 1.2\n",
    "#L to U\n",
    "def to_halfspace_tan(x, v, c):\n",
    "    sqrt_c = c ** 0.5\n",
    "    x_i = x[..., :-2]\n",
    "    v_i = v[..., :-2]\n",
    "    # x_n - x_n-1\n",
    "    x_diff = (x[..., -1] - x[..., -2]).unsqueeze(-1)\n",
    "    sq_x_diff = x_diff.square()\n",
    "    # v_n - v_n-1\n",
    "    v_diff = (v[..., -2] - v[..., -1]).unsqueeze(-1)\n",
    "    u = torch.zeros_like(x[..., :-1])\n",
    "    # u_i\n",
    "    u[..., :-1] = v_i/(sqrt_c*x_diff) + (v_diff/(sqrt_c*sq_x_diff))*x_i\n",
    "    # u_n\n",
    "    u[..., -1] = (v_diff/(c*sq_x_diff)).squeeze(-1)\n",
    "    return u\n",
    "\n",
    "# randomly init x \n",
    "xl = L.proj(torch.randn(10, 5, 21, dtype=torch.float64), c=c)\n",
    "assert L.check(xl, c) == True\n",
    "xl_tan = L.proj_tan(xl, torch.randn_like(xl), c)\n",
    "assert L.check_tan(xl, xl_tan, c) == True\n",
    "# get y through expmap\n",
    "yl = L.expmap(xl, xl_tan, c)\n",
    "# get tan in halfspace\n",
    "xh_tan = to_halfspace_tan(xl, xl_tan, c)\n",
    "xh_tan_prime = L.to_halfspace_tan(xl, xl_tan, c)\n",
    "xh = L.to_halfspace(xl, c)\n",
    "# yh transform from yl\n",
    "yh_from_L = L.to_halfspace(yl, c)\n",
    "yh_from_expmap = U.expmap(xh, xh_tan, c)\n",
    "assert torch.all(torch.isclose(yh_from_L, yh_from_expmap))\n",
    "yh_from_L[0,0]-yh_from_expmap[0,0], U.check(yh_from_expmap, c)"
   ]
  },
  {
   "cell_type": "code",
   "execution_count": 3,
   "metadata": {},
   "outputs": [
    {
     "data": {
      "text/plain": [
       "(torch.Size([10, 5, 20]), torch.Size([10, 5, 20]))"
      ]
     },
     "execution_count": 3,
     "metadata": {},
     "output_type": "execute_result"
    }
   ],
   "source": [
    "xh_tan.size(), xh.size()"
   ]
  },
  {
   "cell_type": "code",
   "execution_count": 6,
   "metadata": {},
   "outputs": [
    {
     "name": "stdout",
     "output_type": "stream",
     "text": [
      "torch.Size([10, 5, 1]) torch.Size([10, 5, 1])\n"
     ]
    },
    {
     "data": {
      "text/plain": [
       "tensor([[[ 0.0000e+00],\n",
       "         [ 8.8818e-16],\n",
       "         [-1.7764e-15],\n",
       "         [ 0.0000e+00],\n",
       "         [-8.8818e-16]],\n",
       "\n",
       "        [[ 0.0000e+00],\n",
       "         [-8.8818e-16],\n",
       "         [-8.8818e-16],\n",
       "         [-8.8818e-16],\n",
       "         [ 0.0000e+00]],\n",
       "\n",
       "        [[-4.4409e-16],\n",
       "         [-4.4409e-16],\n",
       "         [ 0.0000e+00],\n",
       "         [ 4.4409e-16],\n",
       "         [ 0.0000e+00]],\n",
       "\n",
       "        [[ 4.4409e-16],\n",
       "         [ 4.4409e-16],\n",
       "         [-1.7764e-15],\n",
       "         [-1.7764e-15],\n",
       "         [-8.8818e-16]],\n",
       "\n",
       "        [[ 0.0000e+00],\n",
       "         [-4.4409e-16],\n",
       "         [ 8.8818e-16],\n",
       "         [-8.8818e-16],\n",
       "         [-8.8818e-16]],\n",
       "\n",
       "        [[-8.8818e-16],\n",
       "         [-4.4409e-16],\n",
       "         [ 0.0000e+00],\n",
       "         [ 0.0000e+00],\n",
       "         [ 8.8818e-16]],\n",
       "\n",
       "        [[ 0.0000e+00],\n",
       "         [-8.8818e-16],\n",
       "         [ 0.0000e+00],\n",
       "         [ 0.0000e+00],\n",
       "         [ 0.0000e+00]],\n",
       "\n",
       "        [[-4.4409e-16],\n",
       "         [ 0.0000e+00],\n",
       "         [ 8.8818e-16],\n",
       "         [ 0.0000e+00],\n",
       "         [-8.8818e-16]],\n",
       "\n",
       "        [[-8.8818e-16],\n",
       "         [-4.4409e-16],\n",
       "         [-8.8818e-16],\n",
       "         [-1.7764e-15],\n",
       "         [-1.7764e-15]],\n",
       "\n",
       "        [[-8.8818e-16],\n",
       "         [ 0.0000e+00],\n",
       "         [-8.8818e-16],\n",
       "         [ 0.0000e+00],\n",
       "         [-8.8818e-16]]], dtype=torch.float64)"
      ]
     },
     "execution_count": 6,
     "metadata": {},
     "output_type": "execute_result"
    }
   ],
   "source": [
    "L.norm_t(xl_tan, x=xl, c=c) - U.norm_t(xh_tan, x=xh, c=c)"
   ]
  },
  {
   "cell_type": "markdown",
   "metadata": {},
   "source": [
    "## Halfspace to Lorentz (correct)"
   ]
  },
  {
   "cell_type": "code",
   "execution_count": 4,
   "metadata": {},
   "outputs": [
    {
     "data": {
      "text/plain": [
       "(tensor([-1.1627e-01, -1.1672e-02,  5.9440e-03, -1.3114e-02, -2.0230e-02,\n",
       "         -4.5188e-02,  9.4246e+00,  9.4695e+00], dtype=torch.float64),\n",
       " tensor([-1.1627e-01, -1.1672e-02,  5.9440e-03, -1.3114e-02, -2.0230e-02,\n",
       "         -4.5188e-02,  9.4246e+00,  9.4695e+00], dtype=torch.float64),\n",
       " tensor(True))"
      ]
     },
     "execution_count": 4,
     "metadata": {},
     "output_type": "execute_result"
    }
   ],
   "source": [
    "torch.manual_seed(0)\n",
    "c = 1.2\n",
    "# U to L; halfspace to lorentz\n",
    "############################################\n",
    "def to_lorentz_tan(x, v, c):\n",
    "    # sum of xj^2 where j=1 to n-1\n",
    "    sqrt_c = c**0.5\n",
    "    xi = x[..., :-1]\n",
    "    vi = v[..., :-1]\n",
    "    xn = x[..., -1].unsqueeze(-1)\n",
    "    sq_xn = xn.square()\n",
    "    sq_norm_xi = sq_norm(xi)\n",
    "    vn = v[..., -1].unsqueeze(-1)\n",
    "\n",
    "    other_comps =  (1/(sqrt_c*xn))*vi - vn*xi/(sqrt_c*sq_xn) \n",
    "    inv_cx2n = 1/(c*sq_xn)\n",
    "    tail_comp_tmp1 = inner_product(xi, vi)/xn\n",
    "    tail_comp_tmp2 =  1 - sq_norm_xi/sq_xn\n",
    "    tail_comp_first = tail_comp_tmp1 + (tail_comp_tmp2 + inv_cx2n)*vn/2\n",
    "    tail_comp_second = tail_comp_tmp1 + (tail_comp_tmp2 - inv_cx2n)*vn/2\n",
    "    return  torch.cat((other_comps, tail_comp_first, tail_comp_second), dim=-1) \n",
    " \n",
    "\n",
    "# randomly init x for halfspace\n",
    "# NOTE: check may fail for lorentz model if last dim too large/too small (too close to 0)\n",
    "xh = torch.randn(11, 5, 7, dtype=torch.float64)\n",
    "xh[..., -1].abs_()\n",
    "xh[..., -1].clamp_min_(20)\n",
    "assert U.check(xh, c) == True\n",
    "# no need to check in tan space for halfspace\n",
    "xh_tan = torch.randn_like(xh)\n",
    "# get y through expmap\n",
    "yh = U.expmap(xh, xh_tan, c)\n",
    "# get tan in lorentz\n",
    "xl_tan = to_lorentz_tan(xh, xh_tan, c)\n",
    "xl_tan_prime = U.to_lorentz_tan(xh, xh_tan, c)\n",
    "assert torch.all(torch.isclose(xl_tan, xl_tan_prime))\n",
    "xl = U.to_lorentz(xh, c)\n",
    "# yp transform from yu\n",
    "yl_from_U = U.to_lorentz(yh, c)\n",
    "yl_from_expmap = L.expmap(xl, xl_tan, c)\n",
    "assert torch.all(torch.isclose(yl_from_U, yl_from_expmap))\n",
    "################################################################\n",
    "#yp_from_U[0,0], yp_from_expmap[0,0]\n",
    "yl_from_U[0,0], L.proj(yl_from_U, c)[0,0], L.check(yl_from_U, c)"
   ]
  },
  {
   "cell_type": "markdown",
   "metadata": {},
   "source": [
    "## Halfspace to Poincare (correct)"
   ]
  },
  {
   "cell_type": "code",
   "execution_count": 5,
   "metadata": {},
   "outputs": [
    {
     "data": {
      "text/plain": [
       "(tensor([-0.2635, -0.0861, -0.1185,  0.0367, -0.1766, -0.1537, -0.0381, -0.1080,\n",
       "          0.7943], dtype=torch.float64),\n",
       " tensor([-0.2635, -0.0861, -0.1185,  0.0367, -0.1766, -0.1537, -0.0381, -0.1080,\n",
       "          0.7943], dtype=torch.float64))"
      ]
     },
     "execution_count": 5,
     "metadata": {},
     "output_type": "execute_result"
    }
   ],
   "source": [
    "torch.manual_seed(0)\n",
    "c = 1.2\n",
    "# U to B; halfspace to poincare\n",
    "############################################\n",
    "def to_poincare_tan(x, v, c):\n",
    "    sqrt_c = c**0.5\n",
    "    \n",
    "    vi, vn = v[..., :-1], v[..., -1].unsqueeze(-1)\n",
    "    xi, xn = x[..., :-1], x[..., -1].unsqueeze(-1)\n",
    "    mu_x = 2. / (1 + 2*sqrt_c*xn + c*sq_norm(x))\n",
    "    sq_mu_x = mu_x.square()\n",
    "    # ui when 1<=i<=n-1\n",
    "    other_comps_1 = mu_x*vi\n",
    "    other_comps_2 = sq_mu_x*c*inner_product(x, v, keepdim=True)*xi\n",
    "    other_comps_3 = sqrt_c*sq_mu_x*vn*xi\n",
    "    other_comps = other_comps_1 - other_comps_2 - other_comps_3\n",
    "    # un\n",
    "    diff_xnv_vnx = xn*v - vn*x\n",
    "    inner_tmp = inner_product(x, v+sqrt_c*diff_xnv_vnx)\n",
    "    tail_comp_1 = sqrt_c*sq_mu_x*inner_tmp\n",
    "    tail_comp_2 = mu_x*vn*(1-sqrt_c*mu_x*xn)\n",
    "    tail_comp = tail_comp_1 + tail_comp_2\n",
    "    #### --------------------------------------------------\n",
    "    # tail_comp_1 = sqrt_c * sq_mu_x*(1+sqrt_c*xn)*inner_product(x,v)\n",
    "    # tail_comp_2 = c*sq_mu_x*sq_norm(x)*vn\n",
    "    # tail_comp_3 = mu_x*vn*(1-sqrt_c*mu_x*xn)\n",
    "    # tail_comp = tail_comp_1-tail_comp_2+tail_comp_3\n",
    "\n",
    "    return torch.cat((other_comps, tail_comp), dim=-1)\n",
    " \n",
    "\n",
    "# randomly init x for halfspace\n",
    "xh = torch.randn(5, 10, 9, dtype=torch.float64)\n",
    "xh[..., -1].abs_()\n",
    "xh[..., -1].clamp_min_(1)\n",
    "assert U.check(xh, c) == True\n",
    "# no need to check in tan space for halfspace\n",
    "xh_tan = torch.randn_like(xh)\n",
    "# get y through expmap\n",
    "yh = U.expmap(xh, xh_tan, c)\n",
    "# get tan in poincare\n",
    "tmp_xl = U.to_lorentz(xh, c)\n",
    "xp_tan = to_poincare_tan(xh, xh_tan, c) \n",
    "tmp_xp_tan = L.to_poincare_tan(tmp_xl, U.to_lorentz_tan(xh, xh_tan, c), c)\n",
    "tmp_tmp_xp_tan = U.to_poincare_tan(xh, xh_tan, c) \n",
    "assert torch.all(torch.isclose(xp_tan, tmp_xp_tan))\n",
    "assert torch.all(torch.isclose(xp_tan, tmp_tmp_xp_tan))\n",
    "xp = U.to_poincare(xh, c)\n",
    "# yp transform from yu\n",
    "yp_from_U = U.to_poincare(yh, c)\n",
    "yp_from_expmap = B.expmap(xp, xp_tan, c)\n",
    "assert torch.all(torch.isclose(yp_from_U, yp_from_expmap))\n",
    "\n",
    "################################################################\n",
    "yp_from_U[0,0], yp_from_expmap[0,0]"
   ]
  },
  {
   "cell_type": "markdown",
   "metadata": {},
   "source": [
    "## Poincare to Halfspace"
   ]
  },
  {
   "cell_type": "code",
   "execution_count": 6,
   "metadata": {},
   "outputs": [
    {
     "data": {
      "text/plain": [
       "(tensor([ 1.1938, -1.2846, -0.7843, -0.0814,  0.0374,  1.9904, -1.0809, -0.7748,\n",
       "         -3.5452], dtype=torch.float64),\n",
       " tensor([ 1.1938, -1.2846, -0.7843, -0.0814,  0.0374,  1.9904, -1.0809, -0.7748,\n",
       "         -3.5452], dtype=torch.float64),\n",
       " tensor([ 2.2204e-16, -2.2204e-16, -5.5511e-16, -5.5511e-17,  0.0000e+00,\n",
       "          0.0000e+00, -2.2204e-16, -2.2204e-16,  0.0000e+00],\n",
       "        dtype=torch.float64))"
      ]
     },
     "execution_count": 6,
     "metadata": {},
     "output_type": "execute_result"
    }
   ],
   "source": [
    "torch.manual_seed(0)\n",
    "c = 1.0\n",
    "# U to B; halfspace to poincare\n",
    "############################################\n",
    "def to_halfspace_tan(x, v, c):\n",
    "    sqrt_c = c**0.5\n",
    "    vi, vn = v[..., :-1], v[..., -1].unsqueeze(-1)\n",
    "    xi, xn = x[..., :-1], x[..., -1].unsqueeze(-1)\n",
    "    mu_x = 2. / (1 - 2*sqrt_c*xn + c*sq_norm(x))\n",
    "    sq_mu_x = mu_x.square()\n",
    "    # ui when 1<=i<=n-1\n",
    "    other_comps_1 = mu_x*vi\n",
    "    other_comps_2 = sq_mu_x*c*inner_product(x, v, keepdim=True)*xi\n",
    "    other_comps_3 = sqrt_c*sq_mu_x*vn*xi\n",
    "    other_comps = other_comps_1 - other_comps_2 + other_comps_3\n",
    "    # un\n",
    "    diff_xnv_vnx = xn*v - vn*x\n",
    "    inner_tmp = inner_product(x, sqrt_c * diff_xnv_vnx-v)\n",
    "    tail_comp_1 = sqrt_c * sq_mu_x * inner_tmp\n",
    "    tail_comp_2 = mu_x * vn * (1 + sqrt_c*mu_x*xn)\n",
    "    tail_comp = tail_comp_1 + tail_comp_2\n",
    "    return torch.cat((other_comps, tail_comp), dim=-1)\n",
    " \n",
    "# randomly init x for halfspace\n",
    "xp = B.proj(torch.randn(5, 7, 9, dtype=torch.float64)/10, c)\n",
    "assert B.check(xp, c) == True\n",
    "xp_tan = torch.randn_like(xp)\n",
    "# get y through expmap\n",
    "yp = B.expmap(xp, xp_tan, c)\n",
    "# get tan in halfspace\n",
    "xh_tan = to_halfspace_tan(xp, xp_tan, c)\n",
    "tmp_xl = B.to_lorentz(xp, c)\n",
    "tmp_xh_tan = L.to_halfspace_tan(tmp_xl, B.to_lorentz_tan(xp, xp_tan, c), c)\n",
    "xh_tan_prime = B.to_halfspace_tan(xp, xp_tan, c)\n",
    "assert torch.all(torch.isclose(xh_tan, xh_tan_prime))\n",
    "xh = B.to_halfspace(xp, c)\n",
    "# yh transform from yp\n",
    "yh_from_B = B.to_halfspace(yp, c)\n",
    "yh_from_expmap = U.expmap(xh, xh_tan, c)\n",
    "assert torch.all(torch.isclose(yh_from_B, yh_from_expmap))\n",
    "\n",
    "\n",
    "################################################################\n",
    "\n",
    "#yh_from_B[0,0], yh_from_expmap[0,0]\n",
    "tmp_xh_tan[0,0], xh_tan[0,0], tmp_xh_tan[0,0]-xh_tan[0,0]"
   ]
  },
  {
   "cell_type": "markdown",
   "metadata": {},
   "source": [
    "## Poincare to Lorentz (correct)"
   ]
  },
  {
   "cell_type": "code",
   "execution_count": 7,
   "metadata": {},
   "outputs": [
    {
     "data": {
      "text/plain": [
       "(tensor([-1597.1626,  -913.7385, -1324.6462,   884.0109,  -797.2435,  -290.8969,\n",
       "         -1053.4376, -1141.5195, -2357.5828,  3822.7244], dtype=torch.float64),\n",
       " tensor([-1597.1626,  -913.7385, -1324.6462,   884.0109,  -797.2435,  -290.8969,\n",
       "         -1053.4376, -1141.5195, -2357.5828,  3822.7244], dtype=torch.float64),\n",
       " tensor(True))"
      ]
     },
     "execution_count": 7,
     "metadata": {},
     "output_type": "execute_result"
    }
   ],
   "source": [
    "torch.manual_seed(0)\n",
    "c = 1.2\n",
    "# B to L; poincare to lorentz\n",
    "############################################\n",
    "def to_lorentz_tan(x, v, c):\n",
    "    lambda_x = B._lambda_x(x, c)\n",
    "    sq_lambda_x = lambda_x.square()\n",
    "    inner_x_v = inner_product(x,v)\n",
    "    other_comps_1 = lambda_x * v\n",
    "    other_comps_2 = c * sq_lambda_x * inner_x_v * x\n",
    "    other_comps = other_comps_1 + other_comps_2\n",
    "    tail_comp = c**0.5 * sq_lambda_x * inner_x_v\n",
    "    return torch.cat((other_comps, tail_comp), dim=-1)\n",
    "\n",
    "# randomly init x for halfspace\n",
    "xp = B.proj(torch.randn(5, 7, 9, dtype=torch.float64)/10, c)\n",
    "assert B.check(xp, c) == True\n",
    "xp_tan = torch.randn_like(xp)\n",
    "# get y through expmap\n",
    "yp = B.expmap(xp, xp_tan, c)\n",
    "# get tan in lorentz\n",
    "xl_tan = to_lorentz_tan(xp, xp_tan, c)\n",
    "xl_tan_prime = B.to_lorentz_tan(xp, xp_tan, c)\n",
    "assert torch.all(torch.isclose(xl_tan, xl_tan_prime))\n",
    "xl = B.to_lorentz(xp, c)\n",
    "# yl transform from yp\n",
    "yl_from_B = B.to_lorentz(yp, c)\n",
    "yl_from_expmap = L.expmap(xl, xl_tan, c)\n",
    "assert torch.all(torch.isclose(yl_from_B, yl_from_expmap))\n",
    "# ################################################################\n",
    "yl_from_B[0,0], yl_from_expmap[0,0], L.check(yl_from_expmap, c)"
   ]
  }
 ],
 "metadata": {
  "kernelspec": {
   "display_name": "hyla",
   "language": "python",
   "name": "hyla"
  },
  "language_info": {
   "codemirror_mode": {
    "name": "ipython",
    "version": 3
   },
   "file_extension": ".py",
   "mimetype": "text/x-python",
   "name": "python",
   "nbconvert_exporter": "python",
   "pygments_lexer": "ipython3",
   "version": "3.6.12"
  }
 },
 "nbformat": 4,
 "nbformat_minor": 2
}
